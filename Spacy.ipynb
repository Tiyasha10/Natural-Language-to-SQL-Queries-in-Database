{
 "cells": [
  {
   "cell_type": "code",
   "execution_count": 1,
   "id": "0f8cfa42-6ee6-4be4-9201-fa54dfb22aeb",
   "metadata": {},
   "outputs": [],
   "source": [
    "import spacy"
   ]
  },
  {
   "cell_type": "markdown",
   "id": "0bdcb293-79cf-438d-a5b4-128443953f7f",
   "metadata": {},
   "source": [
    " NLP OBJECT"
   ]
  },
  {
   "cell_type": "code",
   "execution_count": 4,
   "id": "b87103d2-b6d7-4b73-96d1-fcac4b6e9c3a",
   "metadata": {},
   "outputs": [],
   "source": [
    "#creating a blank eng nlp object\n",
    "#contains the processing pipeline\n",
    "#includes language-specific rules for tokenization etc.\n",
    "nlp = spacy.blank(\"en\")"
   ]
  },
  {
   "cell_type": "markdown",
   "id": "10c52943-b359-4590-b7c4-ab150517037c",
   "metadata": {},
   "source": [
    "DOC OBJECT"
   ]
  },
  {
   "cell_type": "code",
   "execution_count": 9,
   "id": "9ed45377-1ecc-4cc7-b1f3-93592acc9440",
   "metadata": {},
   "outputs": [
    {
     "name": "stdout",
     "output_type": "stream",
     "text": [
      "Hello\n",
      "I\n",
      "am\n",
      "Tiyasha\n",
      "Kundu\n",
      "!\n"
     ]
    }
   ],
   "source": [
    "#created by processing a string of text\n",
    "doc = nlp(\"Hello I am Tiyasha Kundu!\")\n",
    "\n",
    "#iterate over token in a doc\n",
    "for token in doc:\n",
    "    print(token.text)"
   ]
  },
  {
   "cell_type": "markdown",
   "id": "4e91b697-2b03-4ff7-98af-f33bfbb74650",
   "metadata": {},
   "source": [
    "THE TOKEN OBJECT\n",
    "\n",
    "               Doc\n",
    "        token token token"
   ]
  },
  {
   "cell_type": "code",
   "execution_count": 10,
   "id": "ba03f08e-2910-4297-9dbf-1554e84edb3a",
   "metadata": {},
   "outputs": [
    {
     "name": "stdout",
     "output_type": "stream",
     "text": [
      "!\n"
     ]
    }
   ],
   "source": [
    "doc =nlp(\"Hello I am Tiyasha Kundu!\")\n",
    "\n",
    "#indexinto the doc to get a single token\n",
    "token = doc[5]\n",
    "\n",
    "#get token text via the .text attribute\n",
    "print(token.text)"
   ]
  },
  {
   "cell_type": "markdown",
   "id": "f10677af-1269-4513-b8b3-a3d5e24ca7a8",
   "metadata": {},
   "source": [
    "SPAN OBJECT (where you want to slice from:the next token till you want to slice)\n",
    "<br>here 3rd index is Tiyasha till 5 is after Kundu as we want Tiyasha Kundu"
   ]
  },
  {
   "cell_type": "code",
   "execution_count": 20,
   "id": "56ee72a2-270b-4bdd-98e6-bbc142d53a05",
   "metadata": {},
   "outputs": [
    {
     "name": "stdout",
     "output_type": "stream",
     "text": [
      "Tyasha Kundu\n"
     ]
    }
   ],
   "source": [
    "doc = nlp(\"Hello I am Tyasha Kundu !\")\n",
    "#a slice from doc is a span object\n",
    "span = doc[3:5]\n",
    "#Get the span text via the.text attribute\n",
    "print(span.text)"
   ]
  },
  {
   "cell_type": "markdown",
   "id": "45dc6fc0-35a9-48aa-a6aa-cbbe93388779",
   "metadata": {},
   "source": [
    "Lexical Attribute"
   ]
  },
  {
   "cell_type": "code",
   "execution_count": 26,
   "id": "f9bbefdc-4a24-48ca-a5d4-f24e6b1b3ff2",
   "metadata": {},
   "outputs": [
    {
     "name": "stdout",
     "output_type": "stream",
     "text": [
      "Index:    [0, 1, 2, 3, 4]\n",
      "Text:     ['my', 'mail', 'is', 'tiyashakundu3@gmail.com', '.']\n",
      "is_alpha: [True, True, True, False, False]\n",
      "is_punct: [False, False, False, False, True]\n",
      "like_num: [False, False, False, False, False]\n"
     ]
    }
   ],
   "source": [
    "doc = nlp(\"my mail is tiyashakundu3@gmail.com.\")\n",
    "print(\"Index:   \", [token.i for token in doc])\n",
    "print(\"Text:    \", [token.text for token in doc])\n",
    "\n",
    "print(\"is_alpha:\", [token.is_alpha for token in doc])\n",
    "print(\"is_punct:\", [token.is_punct for token in doc])\n",
    "print(\"like_num:\", [token.like_num for token in doc])"
   ]
  },
  {
   "cell_type": "code",
   "execution_count": 2,
   "id": "70a98b35-ff66-4e6d-9d97-328f7ad84227",
   "metadata": {},
   "outputs": [],
   "source": [
    "import spacy\n",
    "nlp = spacy.load(\"en_core_web_sm\")"
   ]
  },
  {
   "cell_type": "code",
   "execution_count": null,
   "id": "3c1cd1aa-7a62-4618-822b-5fb7a3df32eb",
   "metadata": {},
   "outputs": [],
   "source": []
  }
 ],
 "metadata": {
  "kernelspec": {
   "display_name": "Python 3 (ipykernel)",
   "language": "python",
   "name": "python3"
  },
  "language_info": {
   "codemirror_mode": {
    "name": "ipython",
    "version": 3
   },
   "file_extension": ".py",
   "mimetype": "text/x-python",
   "name": "python",
   "nbconvert_exporter": "python",
   "pygments_lexer": "ipython3",
   "version": "3.11.7"
  }
 },
 "nbformat": 4,
 "nbformat_minor": 5
}
