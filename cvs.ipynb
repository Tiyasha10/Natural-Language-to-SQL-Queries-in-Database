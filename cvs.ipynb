{
 "cells": [
  {
   "cell_type": "code",
   "execution_count": 1,
   "id": "d6df688f-bce3-4801-8e86-b4a991af4651",
   "metadata": {},
   "outputs": [
    {
     "name": "stdout",
     "output_type": "stream",
     "text": [
      "CSV file created successfully!\n"
     ]
    }
   ],
   "source": [
    "import csv\n",
    "\n",
    "# Employee data\n",
    "data = [\n",
    "    [\"id_no\", \"first_name\", \"last_name\", \"age\", \"salary\"],\n",
    "    [101, \"Anata\", \"Sarkar\", 28, 55000.00],\n",
    "    [102, \"Asutosh\", \"Mukherjee\", 34, 63000.00],\n",
    "    [103, \"Rada\", \"Sengupto\", 25, 45000.00],\n",
    "    [104, \"Bulai\", \"Chandra\", 45, 80000.00],\n",
    "    [105, \"Chaitali\", \"Mukherjee\", 30, 57000.00],\n",
    "]\n",
    "\n",
    "# Write data to CSV file\n",
    "with open(\"employee.csv\", \"w\", newline=\"\") as csvfile:\n",
    "    writer = csv.writer(csvfile)\n",
    "    writer.writerows(data)\n",
    "\n",
    "print(\"CSV file created successfully!\")\n"
   ]
  },
  {
   "cell_type": "code",
   "execution_count": null,
   "id": "82f30c1b-57fe-4cb9-a4c5-6c372eb708e5",
   "metadata": {},
   "outputs": [],
   "source": []
  }
 ],
 "metadata": {
  "kernelspec": {
   "display_name": "Python 3 (ipykernel)",
   "language": "python",
   "name": "python3"
  },
  "language_info": {
   "codemirror_mode": {
    "name": "ipython",
    "version": 3
   },
   "file_extension": ".py",
   "mimetype": "text/x-python",
   "name": "python",
   "nbconvert_exporter": "python",
   "pygments_lexer": "ipython3",
   "version": "3.11.7"
  }
 },
 "nbformat": 4,
 "nbformat_minor": 5
}
